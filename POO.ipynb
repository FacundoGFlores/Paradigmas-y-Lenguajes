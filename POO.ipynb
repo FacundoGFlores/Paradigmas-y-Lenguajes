{
 "metadata": {
  "celltoolbar": "Slideshow",
  "name": "",
  "signature": "sha256:94c3b61065108beebd34947664228e5c0560117f482b4820876e8312e3710ff5"
 },
 "nbformat": 3,
 "nbformat_minor": 0,
 "worksheets": [
  {
   "cells": [
    {
     "cell_type": "markdown",
     "metadata": {
      "slideshow": {
       "slide_type": "slide"
      }
     },
     "source": [
      "##Programaci\u00f3n Orientada a Objetos con Python\n",
      "Un ejemplo de una clase en Python."
     ]
    },
    {
     "cell_type": "code",
     "collapsed": false,
     "input": [
      "class Persona:\n",
      "    def __init__(self, name):\n",
      "        self.name = name\n",
      "    \n",
      "    def Habla(self):\n",
      "        print 'Hola, mi nombre es ', self.name\n",
      "    \n",
      "    def __del__(self):\n",
      "        print '% dice adios.' % self.name\n",
      "\n",
      "A = Persona('Juan')\n",
      "A.Habla()"
     ],
     "language": "python",
     "metadata": {
      "slideshow": {
       "slide_type": "subslide"
      }
     },
     "outputs": [
      {
       "output_type": "stream",
       "stream": "stdout",
       "text": [
        "Hola, mi nombre es  Juan\n"
       ]
      }
     ],
     "prompt_number": 2
    },
    {
     "cell_type": "markdown",
     "metadata": {
      "slideshow": {
       "slide_type": "slide"
      }
     },
     "source": [
      "#### Atributos especiales en Python\n",
      "\n",
      "| Nombre del Atributo |                 Descripci\u00f3n                |\n",
      "|:-------------------:|:------------------------------------------:|\n",
      "| __dict__            | Un espacio de nombre                       |\n",
      "| __doc__             | Documentaci\u00f3n en formato string            |\n",
      "| __name__            | El nombre de la clase                      |\n",
      "| __module__          | El nombre del m\u00f3dulo de la clase           |\n",
      "| __bases__           | Una tupla incluyendo todas las superclases |\n",
      "\n"
     ]
    },
    {
     "cell_type": "code",
     "collapsed": false,
     "input": [
      "A.__dict__"
     ],
     "language": "python",
     "metadata": {
      "slideshow": {
       "slide_type": "subslide"
      }
     },
     "outputs": [
      {
       "metadata": {},
       "output_type": "pyout",
       "prompt_number": 8,
       "text": [
        "{'name': 'Juan'}"
       ]
      }
     ],
     "prompt_number": 8
    },
    {
     "cell_type": "code",
     "collapsed": false,
     "input": [
      "A.__module__"
     ],
     "language": "python",
     "metadata": {
      "slideshow": {
       "slide_type": "subslide"
      }
     },
     "outputs": [
      {
       "metadata": {},
       "output_type": "pyout",
       "prompt_number": 10,
       "text": [
        "'__main__'"
       ]
      }
     ],
     "prompt_number": 10
    },
    {
     "cell_type": "markdown",
     "metadata": {
      "slideshow": {
       "slide_type": "slide"
      }
     },
     "source": [
      "### El constructor: __init__()"
     ]
    },
    {
     "cell_type": "code",
     "collapsed": false,
     "input": [
      "class Persona():\n",
      "    def __init__(self, name, age):\n",
      "        self.name = name\n",
      "        self.age = age\n",
      "        \n",
      "A = Persona('Juan', 16)\n",
      "print A.name\n",
      "print A.age"
     ],
     "language": "python",
     "metadata": {
      "slideshow": {
       "slide_type": "subslide"
      }
     },
     "outputs": [
      {
       "output_type": "stream",
       "stream": "stdout",
       "text": [
        "Juan\n",
        "16\n"
       ]
      }
     ],
     "prompt_number": 18
    },
    {
     "cell_type": "markdown",
     "metadata": {
      "slideshow": {
       "slide_type": "slide"
      }
     },
     "source": [
      "### Herencia"
     ]
    },
    {
     "cell_type": "code",
     "collapsed": false,
     "input": [
      "class Persona:\n",
      "    def Hablar(self):\n",
      "        print 'Persona Hablando'\n",
      "\n",
      "class Hombre(Persona):\n",
      "    def Ropa(self):\n",
      "        print 'Tengo una camisa'\n",
      "\n",
      "class Mujer(Persona):\n",
      "    def Ropa(self):\n",
      "        print 'Tengo un vestido'\n",
      "\n",
      "h = Hombre()\n",
      "h.Ropa()\n",
      "h.Hablar()"
     ],
     "language": "python",
     "metadata": {
      "slideshow": {
       "slide_type": "subslide"
      }
     },
     "outputs": [
      {
       "output_type": "stream",
       "stream": "stdout",
       "text": [
        "Tengo una camisa\n",
        "Persona Hablando\n"
       ]
      }
     ],
     "prompt_number": 19
    },
    {
     "cell_type": "markdown",
     "metadata": {
      "slideshow": {
       "slide_type": "slide"
      }
     },
     "source": [
      "### Self\n",
      "Self en Python es como un puntero \"this\" en C++. En Python, las funciones en una clase acceden a los datos a trav\u00e9s del \"self\".\n",
      "   "
     ]
    },
    {
     "cell_type": "code",
     "collapsed": false,
     "input": [
      "class Persona():\n",
      "    def __init__(self, name, age):\n",
      "        self.name = name\n",
      "        self.age = age\n",
      "    def EscribirNombre(self):\n",
      "        print self.name\n",
      "\n",
      "P = Persona('Juan', 17)\n",
      "print P.name\n",
      "P.EscribirNombre()"
     ],
     "language": "python",
     "metadata": {
      "slideshow": {
       "slide_type": "subslide"
      }
     },
     "outputs": [
      {
       "output_type": "stream",
       "stream": "stdout",
       "text": [
        "Juan\n",
        "Juan\n"
       ]
      }
     ],
     "prompt_number": 20
    },
    {
     "cell_type": "markdown",
     "metadata": {
      "slideshow": {
       "slide_type": "slide"
      }
     },
     "source": [
      "## Encapsulaci\u00f3n en Python\n",
      "En Python no existen keywords tales como public, protected, private, para definir la accesibilidad. En otras palabras, todos los atributos en Python son p\u00fablicos.\n",
      "Existe una forma para definir atributos como privados en Python. Simplemente se a\u00f1ade ```__``` al principio de una funci\u00f3n o una variable."
     ]
    },
    {
     "cell_type": "code",
     "collapsed": false,
     "input": [
      "class Persona():\n",
      "    def __init__(self):\n",
      "        self.publico = \"Juan Perez\"\n",
      "        self.__privado = \"Juan Perez Prado\"\n",
      "    \n",
      "    def Mostrar(self):\n",
      "        print self.publico\n",
      "        print self.__privado\n",
      "\n",
      "P = Persona()\n",
      "print P.publico\n",
      "print P.__privado"
     ],
     "language": "python",
     "metadata": {
      "slideshow": {
       "slide_type": "subslide"
      }
     },
     "outputs": [
      {
       "ename": "AttributeError",
       "evalue": "Persona instance has no attribute '__privado'",
       "output_type": "pyerr",
       "traceback": [
        "\u001b[0;31m---------------------------------------------------------------------------\u001b[0m\n\u001b[0;31mAttributeError\u001b[0m                            Traceback (most recent call last)",
        "\u001b[0;32m<ipython-input-22-7a7db2e82089>\u001b[0m in \u001b[0;36m<module>\u001b[0;34m()\u001b[0m\n\u001b[1;32m     10\u001b[0m \u001b[0mP\u001b[0m \u001b[0;34m=\u001b[0m \u001b[0mPersona\u001b[0m\u001b[0;34m(\u001b[0m\u001b[0;34m)\u001b[0m\u001b[0;34m\u001b[0m\u001b[0m\n\u001b[1;32m     11\u001b[0m \u001b[0;32mprint\u001b[0m \u001b[0mP\u001b[0m\u001b[0;34m.\u001b[0m\u001b[0mpublico\u001b[0m\u001b[0;34m\u001b[0m\u001b[0m\n\u001b[0;32m---> 12\u001b[0;31m \u001b[0;32mprint\u001b[0m \u001b[0mP\u001b[0m\u001b[0;34m.\u001b[0m\u001b[0m__privado\u001b[0m\u001b[0;34m\u001b[0m\u001b[0m\n\u001b[0m",
        "\u001b[0;31mAttributeError\u001b[0m: Persona instance has no attribute '__privado'"
       ]
      },
      {
       "output_type": "stream",
       "stream": "stdout",
       "text": [
        "Juan Perez\n"
       ]
      }
     ],
     "prompt_number": 22
    },
    {
     "cell_type": "code",
     "collapsed": false,
     "input": [
      "P.Mostrar()"
     ],
     "language": "python",
     "metadata": {
      "slideshow": {
       "slide_type": "subslide"
      }
     },
     "outputs": [
      {
       "output_type": "stream",
       "stream": "stdout",
       "text": [
        "Juan Perez\n",
        "Juan Perez Prado\n"
       ]
      }
     ],
     "prompt_number": 23
    },
    {
     "cell_type": "markdown",
     "metadata": {
      "slideshow": {
       "slide_type": "slide"
      }
     },
     "source": [
      "## Polimorfismo en Python\n",
      "Comparaci\u00f3n de polimorfismo entre Java y Python.\n",
      "* Java es un lenguaje est\u00e1tico y fuerte tipeo. Java posee una definici\u00f3n de accesibilidad estricta a trav\u00e9s de keywords.\n",
      "* Python es din\u00e1mico y de tipo d\u00e9bil. Todos los datos en Python son p\u00fablicos, excepto por la particular virtualizaci\u00f3n de aquellos privados.\n",
      "* Algunos creen que Python viola el principio de encapsulaci\u00f3n, pero en realidad su objetivo es mantener un lenguaje simple."
     ]
    },
    {
     "cell_type": "code",
     "collapsed": false,
     "input": [
      "class Animal:\n",
      "    def Nombre(self):\n",
      "        pass\n",
      "    def Dormir(self):\n",
      "        print \"durmiendo\"\n",
      "    def Ruido(self):\n",
      "        pass\n",
      "\n",
      "class Perro(Animal):\n",
      "    def Nombre(self):\n",
      "        print \"Soy un Perro\"\n",
      "    def Ruido(self):\n",
      "        print \"Guau!\"\n",
      "\n",
      "class Gato(Animal):\n",
      "    def Nombre(self):\n",
      "        print \"Soy un Gato\"\n",
      "    def Ruido(self):\n",
      "        print \"Miau!\"\n",
      "        \n",
      "class TestearAnimales:\n",
      "    def MostrarNombre(self, animal):\n",
      "        animal.Nombre()\n",
      "    def IrADormir(self, animal):\n",
      "        animal.Dormir()\n",
      "    def HacerRuido(self, animal):\n",
      "        animal.Ruido()\n",
      "        \n",
      "TestearAnimales = TestearAnimales()\n",
      "dog = Perro()\n",
      "cat = Gato()\n",
      "\n",
      "TestearAnimales.MostrarNombre(dog)\n",
      "TestearAnimales.IrADormir(dog)\n",
      "TestearAnimales.HacerRuido(dog)\n",
      "\n",
      "TestearAnimales.MostrarNombre(cat)\n",
      "TestearAnimales.IrADormir(cat)\n",
      "TestearAnimales.HacerRuido(cat)\n",
      "\n"
     ],
     "language": "python",
     "metadata": {
      "slideshow": {
       "slide_type": "subslide"
      }
     },
     "outputs": [
      {
       "output_type": "stream",
       "stream": "stdout",
       "text": [
        "Soy un Perro\n",
        "durmiendo\n",
        "Guau!\n",
        "Soy un Gato\n",
        "durmiendo\n",
        "Miau!\n"
       ]
      }
     ],
     "prompt_number": 28
    },
    {
     "cell_type": "markdown",
     "metadata": {
      "slideshow": {
       "slide_type": "slide"
      }
     },
     "source": [
      "## Polimorfismo en todas partes"
     ]
    },
    {
     "cell_type": "code",
     "collapsed": false,
     "input": [
      "1 + 2"
     ],
     "language": "python",
     "metadata": {
      "slideshow": {
       "slide_type": "subslide"
      }
     },
     "outputs": [
      {
       "metadata": {},
       "output_type": "pyout",
       "prompt_number": 29,
       "text": [
        "3"
       ]
      }
     ],
     "prompt_number": 29
    },
    {
     "cell_type": "code",
     "collapsed": false,
     "input": [
      "'mouse' + 'pad'"
     ],
     "language": "python",
     "metadata": {
      "slideshow": {
       "slide_type": "subslide"
      }
     },
     "outputs": [
      {
       "metadata": {},
       "output_type": "pyout",
       "prompt_number": 30,
       "text": [
        "'mousepad'"
       ]
      }
     ],
     "prompt_number": 30
    },
    {
     "cell_type": "code",
     "collapsed": false,
     "input": [
      "[1,2,3] + [4,5,6]"
     ],
     "language": "python",
     "metadata": {
      "slideshow": {
       "slide_type": "subslide"
      }
     },
     "outputs": [
      {
       "metadata": {},
       "output_type": "pyout",
       "prompt_number": 31,
       "text": [
        "[1, 2, 3, 4, 5, 6]"
       ]
      }
     ],
     "prompt_number": 31
    },
    {
     "cell_type": "code",
     "collapsed": false,
     "input": [
      "class MiNumero:\n",
      "    def __init__(self, x, y):\n",
      "        self.x = x\n",
      "        self.y = y\n",
      "    \n",
      "    def __add__(self, otro):\n",
      "        return MiNumero(self.x + otro.x, self.y + otro.y)\n",
      "    \n",
      "    def __str__(self):\n",
      "        return '(' + str(self.x) + ', ' + str(self.y) + ')'\n",
      "\n",
      "a = MiNumero(3, 1)\n",
      "b = MiNumero(4.5, 2)\n",
      "c = a + b\n",
      "print c"
     ],
     "language": "python",
     "metadata": {
      "slideshow": {
       "slide_type": "subslide"
      }
     },
     "outputs": [
      {
       "output_type": "stream",
       "stream": "stdout",
       "text": [
        "(7.5, 3)\n"
       ]
      }
     ],
     "prompt_number": 1
    }
   ],
   "metadata": {}
  }
 ]
}